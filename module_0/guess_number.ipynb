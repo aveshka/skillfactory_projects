{
 "cells": [
  {
   "cell_type": "code",
   "execution_count": 20,
   "metadata": {},
   "outputs": [],
   "source": [
    "import numpy as np\n",
    "\n",
    "\n",
    "def game_core_v1(number):\n",
    "    '''Сначала устанавливаем значение 50, а потом усредняем его в зависимости от того, больше оно или меньше нужного.\n",
    "       Функция принимает загаданное число и возвращает число попыток'''\n",
    "    count = 1\n",
    "    predict = 50\n",
    "    while number != predict:\n",
    "        count += 1\n",
    "        if number > predict:\n",
    "            predict += 1\n",
    "        if number > predict and predict < 75:\n",
    "            predict += 24\n",
    "        if number > predict and predict < 90:\n",
    "            predict += 14\n",
    "        if number < predict:\n",
    "            predict -= 1\n",
    "        elif number < predict and predict > 25:\n",
    "            predict -= 26\n",
    "        elif number < predict and predict > 9:\n",
    "            predict -= 14\n",
    "    return(count) # выход из цикла, если угадали\n",
    "\n",
    "\n",
    "def game_core_v2(number):\n",
    "    '''Сначала устанавливаем значение 100, а потом уменьшаем или увеличиваем его в зависимости от того, \n",
    "    больше оно или меньше нужного. Функция принимает загаданное число и возвращает число попыток'''\n",
    "    count = 1\n",
    "    predict = 100\n",
    "    while number != predict:\n",
    "        count += 1\n",
    "        if number > predict:\n",
    "            predict += 1\n",
    "        elif number < predict:\n",
    "            predict -= 10\n",
    "    return(count) # выход из цикла, если угадали\n",
    "\n",
    "\n",
    "def score_game(game_core):\n",
    "    '''Запускаем игру 1000 раз, чтобы узнать, как быстро игра угадывает число'''\n",
    "    count_ls = []\n",
    "    np.random.seed(1)  # фиксируем RANDOM SEED, чтобы ваш эксперимент был воспроизводим!\n",
    "    random_array = np.random.randint(1, 101, size=(1000))\n",
    "    for number in random_array:\n",
    "        count_ls.append(game_core(number))\n",
    "    score = int(np.mean(count_ls))\n",
    "    print(f\"Ваш алгоритм угадывает число в среднем за {score} попыток\")\n",
    "    return (score)"
   ]
  },
  {
   "cell_type": "code",
   "execution_count": 21,
   "metadata": {
    "scrolled": true
   },
   "outputs": [
    {
     "name": "stdout",
     "output_type": "stream",
     "text": [
      "Ваш алгоритм угадывает число в среднем за 17 попыток\n",
      "Ваш алгоритм угадывает число в среднем за 11 попыток\n"
     ]
    },
    {
     "data": {
      "text/plain": [
       "11"
      ]
     },
     "execution_count": 21,
     "metadata": {},
     "output_type": "execute_result"
    }
   ],
   "source": [
    "# Cреднее значение угадываний из 1000 случайных чисел\n",
    "score_game(game_core_v1)\n",
    "score_game(game_core_v2)"
   ]
  },
  {
   "cell_type": "code",
   "execution_count": 23,
   "metadata": {},
   "outputs": [
    {
     "name": "stdout",
     "output_type": "stream",
     "text": [
      "Введите число от 1 до 100\n",
      "52\n",
      "Функция № 1 угадала с 24 попытки\n",
      "Функция № 2 угадала с 8 попытки\n"
     ]
    }
   ],
   "source": [
    "# Ручной ввод числа\n",
    "print(\"Введите число от 1 до 100\")\n",
    "number = input()\n",
    "\n",
    "if int(number) < 100 and int(number) > 0:\n",
    "    print(\"Функция № 1 угадала с \", game_core_v1(int(number)), \"попытки\")\n",
    "    print(\"Функция № 2 угадала с \", game_core_v2(int(number)), \"попытки\")\n",
    "elif int(number) > 100 or int(number) < 0:\n",
    "    print(\"Введеное значение не корректно, повторите еще раз\")"
   ]
  },
  {
   "cell_type": "code",
   "execution_count": null,
   "metadata": {},
   "outputs": [],
   "source": []
  }
 ],
 "metadata": {
  "kernelspec": {
   "display_name": "Python 3",
   "language": "python",
   "name": "python3"
  },
  "language_info": {
   "codemirror_mode": {
    "name": "ipython",
    "version": 3
   },
   "file_extension": ".py",
   "mimetype": "text/x-python",
   "name": "python",
   "nbconvert_exporter": "python",
   "pygments_lexer": "ipython3",
   "version": "3.8.3"
  }
 },
 "nbformat": 4,
 "nbformat_minor": 4
}
